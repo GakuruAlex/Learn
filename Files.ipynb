{
 "cells": [
  {
   "cell_type": "code",
   "execution_count": 13,
   "metadata": {},
   "outputs": [],
   "source": [
    "import swimclub"
   ]
  },
  {
   "cell_type": "code",
   "execution_count": 14,
   "metadata": {},
   "outputs": [
    {
     "data": {
      "text/plain": [
       "{'name': 'Darius',\n",
       " 'age': '13',\n",
       " 'distance': '100m',\n",
       " 'stroke': 'Fly',\n",
       " 'times': ['1:27.95', '1:21.07', '1:30.96', '1:23.22', '1:27.95', '1:28.30'],\n",
       " 'average': '1:26.58'}"
      ]
     },
     "execution_count": 14,
     "metadata": {},
     "output_type": "execute_result"
    }
   ],
   "source": [
    "swimclub.process_swim_data(\"Darius-13-100m-Fly.txt\")"
   ]
  },
  {
   "cell_type": "code",
   "execution_count": 15,
   "metadata": {},
   "outputs": [],
   "source": [
    "import os"
   ]
  },
  {
   "cell_type": "code",
   "execution_count": 16,
   "metadata": {},
   "outputs": [
    {
     "name": "stdout",
     "output_type": "stream",
     "text": [
      "['Ruth-13-100m-Free.txt', 'Lizzie-14-100m-Free.txt', 'Mike-15-100m-Fly.txt', 'Chris-17-100m-Back.txt', 'Tasmin-15-100m-Back.txt', 'Katie-9-50m-Back.txt', 'Darius-13-200m-IM.txt', 'Hannah-13-100m-Back.txt', 'Calvin-9-50m-Free.txt', 'Abi-10-50m-Free.txt', 'Elba-14-100m-Free.txt', 'Chris-17-100m-Breast.txt', 'Mike-15-200m-IM.txt', 'Abi-10-100m-Back.txt', 'Abi-10-100m-Breast.txt', 'Erika-15-100m-Free.txt', 'Ruth-13-200m-Free.txt', 'Darius-13-100m-Back.txt', 'Blake-15-100m-Free.txt', 'Darius-13-100m-Fly.txt', 'Dave-17-100m-Free.txt', 'Aurora-13-50m-Free.txt', 'Tasmin-15-100m-Free.txt', 'Mike-15-100m-Back.txt', 'Mike-15-200m-Free.txt', 'Abi-10-50m-Breast.txt', 'Blake-15-100m-Back.txt', 'Blake-15-100m-Fly.txt', 'Katie-9-50m-Fly.txt', 'Katie-9-100m-Free.txt', 'Bill-18-200m-Back.txt', 'Abi-10-50m-Back.txt', 'Dave-17-200m-Back.txt', 'Hannah-13-100m-Free.txt', 'Alison-14-100m-Breast.txt', 'Ruth-13-200m-Back.txt', '.DS_Store', 'Bill-18-100m-Back.txt', 'Katie-9-100m-Breast.txt', 'Alison-14-100m-Free.txt', 'Mike-15-100m-Free.txt', 'Erika-15-100m-Breast.txt', 'Ruth-13-400m-Free.txt', 'Katie-9-100m-Back.txt', 'Emma-13-100m-Breast.txt', 'Maria-9-50m-Free.txt', 'Tasmin-15-200m-Breast.txt', 'Carl-15-100m-Back.txt', 'Lizzie-14-100m-Back.txt', 'Ali-12-100m-Back.txt', 'Katie-9-50m-Free.txt', 'Calvin-9-50m-Back.txt', 'Emma-13-100m-Free.txt', 'Tasmin-15-100m-Breast.txt', 'Ruth-13-100m-Back.txt', 'Calvin-9-50m-Fly.txt', 'Ali-12-100m-Free.txt', 'Katie-9-50m-Breast.txt', 'Darius-13-100m-Breast.txt', 'Owen-15-100m-Free.txt', 'Erika-15-200m-Breast.txt']\n"
     ]
    }
   ],
   "source": [
    "swim_files = os.listdir(swimclub.FOLDER)\n",
    "print(swim_files)"
   ]
  },
  {
   "cell_type": "code",
   "execution_count": 17,
   "metadata": {},
   "outputs": [
    {
     "data": {
      "text/plain": [
       "61"
      ]
     },
     "execution_count": 17,
     "metadata": {},
     "output_type": "execute_result"
    }
   ],
   "source": [
    "len(swim_files)"
   ]
  },
  {
   "cell_type": "code",
   "execution_count": 18,
   "metadata": {},
   "outputs": [
    {
     "name": "stdout",
     "output_type": "stream",
     "text": [
      "['__add__', '__class__', '__class_getitem__', '__contains__', '__delattr__', '__delitem__', '__dir__', '__doc__', '__eq__', '__format__', '__ge__', '__getattribute__', '__getitem__', '__gt__', '__hash__', '__iadd__', '__imul__', '__init__', '__init_subclass__', '__iter__', '__le__', '__len__', '__lt__', '__mul__', '__ne__', '__new__', '__reduce__', '__reduce_ex__', '__repr__', '__reversed__', '__rmul__', '__setattr__', '__setitem__', '__sizeof__', '__str__', '__subclasshook__', 'append', 'clear', 'copy', 'count', 'extend', 'index', 'insert', 'pop', 'remove', 'reverse', 'sort']\n",
      "Help on built-in function sort:\n",
      "\n",
      "sort(*, key=None, reverse=False) method of builtins.list instance\n",
      "    Sort the list in ascending order and return None.\n",
      "    \n",
      "    The sort is in-place (i.e. the list itself is modified) and stable (i.e. the\n",
      "    order of two equal elements is maintained).\n",
      "    \n",
      "    If a key function is given, apply it once to each list item and sort them,\n",
      "    ascending or descending, according to their function values.\n",
      "    \n",
      "    The reverse flag can be set to sort in descending order.\n",
      "\n"
     ]
    }
   ],
   "source": [
    "print(dir(swim_files))\n",
    "help(swim_files.sort)"
   ]
  },
  {
   "cell_type": "code",
   "execution_count": 19,
   "metadata": {},
   "outputs": [
    {
     "name": "stdout",
     "output_type": "stream",
     "text": [
      "['.DS_Store', 'Abi-10-100m-Back.txt', 'Abi-10-100m-Breast.txt', 'Abi-10-50m-Back.txt', 'Abi-10-50m-Breast.txt', 'Abi-10-50m-Free.txt', 'Ali-12-100m-Back.txt', 'Ali-12-100m-Free.txt', 'Alison-14-100m-Breast.txt', 'Alison-14-100m-Free.txt', 'Aurora-13-50m-Free.txt', 'Bill-18-100m-Back.txt', 'Bill-18-200m-Back.txt', 'Blake-15-100m-Back.txt', 'Blake-15-100m-Fly.txt', 'Blake-15-100m-Free.txt', 'Calvin-9-50m-Back.txt', 'Calvin-9-50m-Fly.txt', 'Calvin-9-50m-Free.txt', 'Carl-15-100m-Back.txt', 'Chris-17-100m-Back.txt', 'Chris-17-100m-Breast.txt', 'Darius-13-100m-Back.txt', 'Darius-13-100m-Breast.txt', 'Darius-13-100m-Fly.txt', 'Darius-13-200m-IM.txt', 'Dave-17-100m-Free.txt', 'Dave-17-200m-Back.txt', 'Elba-14-100m-Free.txt', 'Emma-13-100m-Breast.txt', 'Emma-13-100m-Free.txt', 'Erika-15-100m-Breast.txt', 'Erika-15-100m-Free.txt', 'Erika-15-200m-Breast.txt', 'Hannah-13-100m-Back.txt', 'Hannah-13-100m-Free.txt', 'Katie-9-100m-Back.txt', 'Katie-9-100m-Breast.txt', 'Katie-9-100m-Free.txt', 'Katie-9-50m-Back.txt', 'Katie-9-50m-Breast.txt', 'Katie-9-50m-Fly.txt', 'Katie-9-50m-Free.txt', 'Lizzie-14-100m-Back.txt', 'Lizzie-14-100m-Free.txt', 'Maria-9-50m-Free.txt', 'Mike-15-100m-Back.txt', 'Mike-15-100m-Fly.txt', 'Mike-15-100m-Free.txt', 'Mike-15-200m-Free.txt', 'Mike-15-200m-IM.txt', 'Owen-15-100m-Free.txt', 'Ruth-13-100m-Back.txt', 'Ruth-13-100m-Free.txt', 'Ruth-13-200m-Back.txt', 'Ruth-13-200m-Free.txt', 'Ruth-13-400m-Free.txt', 'Tasmin-15-100m-Back.txt', 'Tasmin-15-100m-Breast.txt', 'Tasmin-15-100m-Free.txt', 'Tasmin-15-200m-Breast.txt']\n"
     ]
    }
   ],
   "source": [
    "print(sorted(swim_files))"
   ]
  },
  {
   "cell_type": "code",
   "execution_count": 20,
   "metadata": {},
   "outputs": [],
   "source": [
    "swim_files.remove(\".DS_Store\")"
   ]
  },
  {
   "cell_type": "code",
   "execution_count": 21,
   "metadata": {},
   "outputs": [
    {
     "data": {
      "text/plain": [
       "60"
      ]
     },
     "execution_count": 21,
     "metadata": {},
     "output_type": "execute_result"
    }
   ],
   "source": [
    "len(swim_files)"
   ]
  },
  {
   "cell_type": "code",
   "execution_count": 22,
   "metadata": {},
   "outputs": [
    {
     "name": "stdout",
     "output_type": "stream",
     "text": [
      "['Abi-10-100m-Back.txt', 'Abi-10-100m-Breast.txt', 'Abi-10-50m-Back.txt', 'Abi-10-50m-Breast.txt', 'Abi-10-50m-Free.txt', 'Ali-12-100m-Back.txt', 'Ali-12-100m-Free.txt', 'Alison-14-100m-Breast.txt', 'Alison-14-100m-Free.txt', 'Aurora-13-50m-Free.txt', 'Bill-18-100m-Back.txt', 'Bill-18-200m-Back.txt', 'Blake-15-100m-Back.txt', 'Blake-15-100m-Fly.txt', 'Blake-15-100m-Free.txt', 'Calvin-9-50m-Back.txt', 'Calvin-9-50m-Fly.txt', 'Calvin-9-50m-Free.txt', 'Carl-15-100m-Back.txt', 'Chris-17-100m-Back.txt', 'Chris-17-100m-Breast.txt', 'Darius-13-100m-Back.txt', 'Darius-13-100m-Breast.txt', 'Darius-13-100m-Fly.txt', 'Darius-13-200m-IM.txt', 'Dave-17-100m-Free.txt', 'Dave-17-200m-Back.txt', 'Elba-14-100m-Free.txt', 'Emma-13-100m-Breast.txt', 'Emma-13-100m-Free.txt', 'Erika-15-100m-Breast.txt', 'Erika-15-100m-Free.txt', 'Erika-15-200m-Breast.txt', 'Hannah-13-100m-Back.txt', 'Hannah-13-100m-Free.txt', 'Katie-9-100m-Back.txt', 'Katie-9-100m-Breast.txt', 'Katie-9-100m-Free.txt', 'Katie-9-50m-Back.txt', 'Katie-9-50m-Breast.txt', 'Katie-9-50m-Fly.txt', 'Katie-9-50m-Free.txt', 'Lizzie-14-100m-Back.txt', 'Lizzie-14-100m-Free.txt', 'Maria-9-50m-Free.txt', 'Mike-15-100m-Back.txt', 'Mike-15-100m-Fly.txt', 'Mike-15-100m-Free.txt', 'Mike-15-200m-Free.txt', 'Mike-15-200m-IM.txt', 'Owen-15-100m-Free.txt', 'Ruth-13-100m-Back.txt', 'Ruth-13-100m-Free.txt', 'Ruth-13-200m-Back.txt', 'Ruth-13-200m-Free.txt', 'Ruth-13-400m-Free.txt', 'Tasmin-15-100m-Back.txt', 'Tasmin-15-100m-Breast.txt', 'Tasmin-15-100m-Free.txt', 'Tasmin-15-200m-Breast.txt']\n"
     ]
    }
   ],
   "source": [
    "print(sorted(swim_files))"
   ]
  },
  {
   "cell_type": "code",
   "execution_count": 23,
   "metadata": {},
   "outputs": [
    {
     "data": {
      "text/plain": [
       "{'name': 'Abi',\n",
       " 'age': '10',\n",
       " 'distance': '50m',\n",
       " 'stroke': 'Breast',\n",
       " 'times': ['48.08',\n",
       "  '53.17',\n",
       "  '45.76',\n",
       "  '49.28',\n",
       "  '52.85',\n",
       "  '46.19',\n",
       "  '47.76',\n",
       "  '48.83',\n",
       "  '45.71',\n",
       "  '47.76'],\n",
       " 'average': '0:48.54'}"
      ]
     },
     "execution_count": 23,
     "metadata": {},
     "output_type": "execute_result"
    }
   ],
   "source": [
    "\n",
    "swimclub.process_swim_data('Abi-10-50m-Breast.txt')"
   ]
  },
  {
   "cell_type": "code",
   "execution_count": 24,
   "metadata": {},
   "outputs": [
    {
     "name": "stdout",
     "output_type": "stream",
     "text": [
      "1 Processing: Ruth-13-100m-Free.txt\n",
      "2 Processing: Lizzie-14-100m-Free.txt\n",
      "3 Processing: Mike-15-100m-Fly.txt\n",
      "4 Processing: Chris-17-100m-Back.txt\n",
      "5 Processing: Tasmin-15-100m-Back.txt\n",
      "6 Processing: Katie-9-50m-Back.txt\n",
      "7 Processing: Darius-13-200m-IM.txt\n",
      "8 Processing: Hannah-13-100m-Back.txt\n",
      "9 Processing: Calvin-9-50m-Free.txt\n",
      "10 Processing: Abi-10-50m-Free.txt\n",
      "11 Processing: Elba-14-100m-Free.txt\n",
      "12 Processing: Chris-17-100m-Breast.txt\n",
      "13 Processing: Mike-15-200m-IM.txt\n",
      "14 Processing: Abi-10-100m-Back.txt\n",
      "15 Processing: Abi-10-100m-Breast.txt\n",
      "16 Processing: Erika-15-100m-Free.txt\n",
      "17 Processing: Ruth-13-200m-Free.txt\n",
      "18 Processing: Darius-13-100m-Back.txt\n",
      "19 Processing: Blake-15-100m-Free.txt\n",
      "20 Processing: Darius-13-100m-Fly.txt\n",
      "21 Processing: Dave-17-100m-Free.txt\n",
      "22 Processing: Aurora-13-50m-Free.txt\n",
      "23 Processing: Tasmin-15-100m-Free.txt\n",
      "24 Processing: Mike-15-100m-Back.txt\n",
      "25 Processing: Mike-15-200m-Free.txt\n",
      "26 Processing: Abi-10-50m-Breast.txt\n",
      "27 Processing: Blake-15-100m-Back.txt\n",
      "28 Processing: Blake-15-100m-Fly.txt\n",
      "29 Processing: Katie-9-50m-Fly.txt\n",
      "30 Processing: Katie-9-100m-Free.txt\n",
      "31 Processing: Bill-18-200m-Back.txt\n",
      "32 Processing: Abi-10-50m-Back.txt\n",
      "33 Processing: Dave-17-200m-Back.txt\n",
      "34 Processing: Hannah-13-100m-Free.txt\n",
      "35 Processing: Alison-14-100m-Breast.txt\n",
      "36 Processing: Ruth-13-200m-Back.txt\n",
      "37 Processing: Bill-18-100m-Back.txt\n",
      "38 Processing: Katie-9-100m-Breast.txt\n",
      "39 Processing: Alison-14-100m-Free.txt\n",
      "40 Processing: Mike-15-100m-Free.txt\n",
      "41 Processing: Erika-15-100m-Breast.txt\n",
      "42 Processing: Ruth-13-400m-Free.txt\n",
      "43 Processing: Katie-9-100m-Back.txt\n",
      "44 Processing: Emma-13-100m-Breast.txt\n",
      "45 Processing: Maria-9-50m-Free.txt\n",
      "46 Processing: Tasmin-15-200m-Breast.txt\n",
      "47 Processing: Carl-15-100m-Back.txt\n",
      "48 Processing: Lizzie-14-100m-Back.txt\n",
      "49 Processing: Ali-12-100m-Back.txt\n",
      "50 Processing: Katie-9-50m-Free.txt\n",
      "51 Processing: Calvin-9-50m-Back.txt\n",
      "52 Processing: Emma-13-100m-Free.txt\n",
      "53 Processing: Tasmin-15-100m-Breast.txt\n",
      "54 Processing: Ruth-13-100m-Back.txt\n",
      "55 Processing: Calvin-9-50m-Fly.txt\n",
      "56 Processing: Ali-12-100m-Free.txt\n",
      "57 Processing: Katie-9-50m-Breast.txt\n",
      "58 Processing: Darius-13-100m-Breast.txt\n",
      "59 Processing: Owen-15-100m-Free.txt\n",
      "60 Processing: Erika-15-200m-Breast.txt\n"
     ]
    }
   ],
   "source": [
    "for count,filename in enumerate(swim_files, 1):\n",
    "    print(f\"{count} Processing: {filename}\")\n",
    "    swimclub.process_swim_data(filename)"
   ]
  },
  {
   "cell_type": "code",
   "execution_count": 25,
   "metadata": {},
   "outputs": [],
   "source": []
  }
 ],
 "metadata": {
  "kernelspec": {
   "display_name": ".venv",
   "language": "python",
   "name": "python3"
  },
  "language_info": {
   "codemirror_mode": {
    "name": "ipython",
    "version": 3
   },
   "file_extension": ".py",
   "mimetype": "text/x-python",
   "name": "python",
   "nbconvert_exporter": "python",
   "pygments_lexer": "ipython3",
   "version": "3.9.13"
  }
 },
 "nbformat": 4,
 "nbformat_minor": 2
}
