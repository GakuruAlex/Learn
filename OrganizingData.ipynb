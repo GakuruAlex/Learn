{
 "cells": [
  {
   "cell_type": "code",
   "execution_count": 1,
   "metadata": {},
   "outputs": [],
   "source": [
    "from swimclub import FOLDER,process_swim_data"
   ]
  },
  {
   "cell_type": "code",
   "execution_count": 2,
   "metadata": {},
   "outputs": [],
   "source": [
    "import os"
   ]
  },
  {
   "cell_type": "code",
   "execution_count": 3,
   "metadata": {},
   "outputs": [],
   "source": [
    "swimfiles = os.listdir(FOLDER)"
   ]
  },
  {
   "cell_type": "code",
   "execution_count": 4,
   "metadata": {},
   "outputs": [],
   "source": [
    "swimfiles.remove(\".DS_Store\")"
   ]
  },
  {
   "cell_type": "code",
   "execution_count": 5,
   "metadata": {},
   "outputs": [
    {
     "data": {
      "text/plain": [
       "60"
      ]
     },
     "execution_count": 5,
     "metadata": {},
     "output_type": "execute_result"
    }
   ],
   "source": [
    "len(swimfiles)"
   ]
  },
  {
   "cell_type": "code",
   "execution_count": 6,
   "metadata": {},
   "outputs": [],
   "source": [
    "swim_files = []"
   ]
  },
  {
   "cell_type": "code",
   "execution_count": 7,
   "metadata": {},
   "outputs": [],
   "source": [
    "for file in swimfiles:\n",
    "    (name,*_) = file.split(\"-\")\n",
    "    swim_files.append(name)"
   ]
  },
  {
   "cell_type": "code",
   "execution_count": 8,
   "metadata": {},
   "outputs": [
    {
     "name": "stdout",
     "output_type": "stream",
     "text": [
      "['Ruth', 'Lizzie', 'Mike', 'Chris', 'Tasmin', 'Katie', 'Darius', 'Hannah', 'Calvin', 'Abi', 'Elba', 'Chris', 'Mike', 'Abi', 'Abi', 'Erika', 'Ruth', 'Darius', 'Blake', 'Darius', 'Dave', 'Aurora', 'Tasmin', 'Mike', 'Mike', 'Abi', 'Blake', 'Blake', 'Katie', 'Katie', 'Bill', 'Abi', 'Dave', 'Hannah', 'Alison', 'Ruth', 'Bill', 'Katie', 'Alison', 'Mike', 'Erika', 'Ruth', 'Katie', 'Emma', 'Maria', 'Tasmin', 'Carl', 'Lizzie', 'Ali', 'Katie', 'Calvin', 'Emma', 'Tasmin', 'Ruth', 'Calvin', 'Ali', 'Katie', 'Darius', 'Owen', 'Erika']\n"
     ]
    }
   ],
   "source": [
    "len(swim_files)\n",
    "print(swim_files)"
   ]
  },
  {
   "cell_type": "code",
   "execution_count": 9,
   "metadata": {},
   "outputs": [],
   "source": [
    "names = list(set(swim_files))"
   ]
  },
  {
   "cell_type": "code",
   "execution_count": 10,
   "metadata": {},
   "outputs": [],
   "source": [
    "swimmers = {}"
   ]
  },
  {
   "cell_type": "code",
   "execution_count": 11,
   "metadata": {},
   "outputs": [],
   "source": [
    "for file in swimfiles:\n",
    "    name = process_swim_data(file)[\"name\"]\n",
    "    if name not in swimmers:\n",
    "        swimmers[name] = []\n",
    "    swimmers[name].append(file)\n",
    "   "
   ]
  },
  {
   "cell_type": "code",
   "execution_count": 12,
   "metadata": {},
   "outputs": [
    {
     "data": {
      "text/plain": [
       "{'Ruth': ['Ruth-13-100m-Free.txt',\n",
       "  'Ruth-13-200m-Free.txt',\n",
       "  'Ruth-13-200m-Back.txt',\n",
       "  'Ruth-13-400m-Free.txt',\n",
       "  'Ruth-13-100m-Back.txt'],\n",
       " 'Lizzie': ['Lizzie-14-100m-Free.txt', 'Lizzie-14-100m-Back.txt'],\n",
       " 'Mike': ['Mike-15-100m-Fly.txt',\n",
       "  'Mike-15-200m-IM.txt',\n",
       "  'Mike-15-100m-Back.txt',\n",
       "  'Mike-15-200m-Free.txt',\n",
       "  'Mike-15-100m-Free.txt'],\n",
       " 'Chris': ['Chris-17-100m-Back.txt', 'Chris-17-100m-Breast.txt'],\n",
       " 'Tasmin': ['Tasmin-15-100m-Back.txt',\n",
       "  'Tasmin-15-100m-Free.txt',\n",
       "  'Tasmin-15-200m-Breast.txt',\n",
       "  'Tasmin-15-100m-Breast.txt'],\n",
       " 'Katie': ['Katie-9-50m-Back.txt',\n",
       "  'Katie-9-50m-Fly.txt',\n",
       "  'Katie-9-100m-Free.txt',\n",
       "  'Katie-9-100m-Breast.txt',\n",
       "  'Katie-9-100m-Back.txt',\n",
       "  'Katie-9-50m-Free.txt',\n",
       "  'Katie-9-50m-Breast.txt'],\n",
       " 'Darius': ['Darius-13-200m-IM.txt',\n",
       "  'Darius-13-100m-Back.txt',\n",
       "  'Darius-13-100m-Fly.txt',\n",
       "  'Darius-13-100m-Breast.txt'],\n",
       " 'Hannah': ['Hannah-13-100m-Back.txt', 'Hannah-13-100m-Free.txt'],\n",
       " 'Calvin': ['Calvin-9-50m-Free.txt',\n",
       "  'Calvin-9-50m-Back.txt',\n",
       "  'Calvin-9-50m-Fly.txt'],\n",
       " 'Abi': ['Abi-10-50m-Free.txt',\n",
       "  'Abi-10-100m-Back.txt',\n",
       "  'Abi-10-100m-Breast.txt',\n",
       "  'Abi-10-50m-Breast.txt',\n",
       "  'Abi-10-50m-Back.txt'],\n",
       " 'Elba': ['Elba-14-100m-Free.txt'],\n",
       " 'Erika': ['Erika-15-100m-Free.txt',\n",
       "  'Erika-15-100m-Breast.txt',\n",
       "  'Erika-15-200m-Breast.txt'],\n",
       " 'Blake': ['Blake-15-100m-Free.txt',\n",
       "  'Blake-15-100m-Back.txt',\n",
       "  'Blake-15-100m-Fly.txt'],\n",
       " 'Dave': ['Dave-17-100m-Free.txt', 'Dave-17-200m-Back.txt'],\n",
       " 'Aurora': ['Aurora-13-50m-Free.txt'],\n",
       " 'Bill': ['Bill-18-200m-Back.txt', 'Bill-18-100m-Back.txt'],\n",
       " 'Alison': ['Alison-14-100m-Breast.txt', 'Alison-14-100m-Free.txt'],\n",
       " 'Emma': ['Emma-13-100m-Breast.txt', 'Emma-13-100m-Free.txt'],\n",
       " 'Maria': ['Maria-9-50m-Free.txt'],\n",
       " 'Carl': ['Carl-15-100m-Back.txt'],\n",
       " 'Ali': ['Ali-12-100m-Back.txt', 'Ali-12-100m-Free.txt'],\n",
       " 'Owen': ['Owen-15-100m-Free.txt']}"
      ]
     },
     "execution_count": 12,
     "metadata": {},
     "output_type": "execute_result"
    }
   ],
   "source": [
    "swimmers"
   ]
  },
  {
   "cell_type": "code",
   "execution_count": 13,
   "metadata": {},
   "outputs": [
    {
     "data": {
      "text/plain": [
       "22"
      ]
     },
     "execution_count": 13,
     "metadata": {},
     "output_type": "execute_result"
    }
   ],
   "source": [
    "len(swimmers)\n"
   ]
  },
  {
   "cell_type": "code",
   "execution_count": 14,
   "metadata": {},
   "outputs": [
    {
     "name": "stdout",
     "output_type": "stream",
     "text": [
      "{'Abi': ['Abi-10-50m-Free.txt',\n",
      "         'Abi-10-100m-Back.txt',\n",
      "         'Abi-10-100m-Breast.txt',\n",
      "         'Abi-10-50m-Breast.txt',\n",
      "         'Abi-10-50m-Back.txt'],\n",
      " 'Ali': ['Ali-12-100m-Back.txt', 'Ali-12-100m-Free.txt'],\n",
      " 'Alison': ['Alison-14-100m-Breast.txt', 'Alison-14-100m-Free.txt'],\n",
      " 'Aurora': ['Aurora-13-50m-Free.txt'],\n",
      " 'Bill': ['Bill-18-200m-Back.txt', 'Bill-18-100m-Back.txt'],\n",
      " 'Blake': ['Blake-15-100m-Free.txt',\n",
      "           'Blake-15-100m-Back.txt',\n",
      "           'Blake-15-100m-Fly.txt'],\n",
      " 'Calvin': ['Calvin-9-50m-Free.txt',\n",
      "            'Calvin-9-50m-Back.txt',\n",
      "            'Calvin-9-50m-Fly.txt'],\n",
      " 'Carl': ['Carl-15-100m-Back.txt'],\n",
      " 'Chris': ['Chris-17-100m-Back.txt', 'Chris-17-100m-Breast.txt'],\n",
      " 'Darius': ['Darius-13-200m-IM.txt',\n",
      "            'Darius-13-100m-Back.txt',\n",
      "            'Darius-13-100m-Fly.txt',\n",
      "            'Darius-13-100m-Breast.txt'],\n",
      " 'Dave': ['Dave-17-100m-Free.txt', 'Dave-17-200m-Back.txt'],\n",
      " 'Elba': ['Elba-14-100m-Free.txt'],\n",
      " 'Emma': ['Emma-13-100m-Breast.txt', 'Emma-13-100m-Free.txt'],\n",
      " 'Erika': ['Erika-15-100m-Free.txt',\n",
      "           'Erika-15-100m-Breast.txt',\n",
      "           'Erika-15-200m-Breast.txt'],\n",
      " 'Hannah': ['Hannah-13-100m-Back.txt', 'Hannah-13-100m-Free.txt'],\n",
      " 'Katie': ['Katie-9-50m-Back.txt',\n",
      "           'Katie-9-50m-Fly.txt',\n",
      "           'Katie-9-100m-Free.txt',\n",
      "           'Katie-9-100m-Breast.txt',\n",
      "           'Katie-9-100m-Back.txt',\n",
      "           'Katie-9-50m-Free.txt',\n",
      "           'Katie-9-50m-Breast.txt'],\n",
      " 'Lizzie': ['Lizzie-14-100m-Free.txt', 'Lizzie-14-100m-Back.txt'],\n",
      " 'Maria': ['Maria-9-50m-Free.txt'],\n",
      " 'Mike': ['Mike-15-100m-Fly.txt',\n",
      "          'Mike-15-200m-IM.txt',\n",
      "          'Mike-15-100m-Back.txt',\n",
      "          'Mike-15-200m-Free.txt',\n",
      "          'Mike-15-100m-Free.txt'],\n",
      " 'Owen': ['Owen-15-100m-Free.txt'],\n",
      " 'Ruth': ['Ruth-13-100m-Free.txt',\n",
      "          'Ruth-13-200m-Free.txt',\n",
      "          'Ruth-13-200m-Back.txt',\n",
      "          'Ruth-13-400m-Free.txt',\n",
      "          'Ruth-13-100m-Back.txt'],\n",
      " 'Tasmin': ['Tasmin-15-100m-Back.txt',\n",
      "            'Tasmin-15-100m-Free.txt',\n",
      "            'Tasmin-15-200m-Breast.txt',\n",
      "            'Tasmin-15-100m-Breast.txt']}\n"
     ]
    }
   ],
   "source": [
    "import pprint\n",
    "pprint.pprint(swimmers)"
   ]
  },
  {
   "cell_type": "code",
   "execution_count": 15,
   "metadata": {},
   "outputs": [],
   "source": [
    "from produce_bar_chart import produce_bar_chart\n",
    "import os\n",
    "import webbrowser"
   ]
  },
  {
   "cell_type": "code",
   "execution_count": 17,
   "metadata": {},
   "outputs": [],
   "source": [
    "for fname in swimmers[\"Calvin\"]:\n",
    "    webbrowser.open(\"file://\" + os.path.realpath(produce_bar_chart(fname)))"
   ]
  },
  {
   "cell_type": "code",
   "execution_count": null,
   "metadata": {},
   "outputs": [],
   "source": []
  }
 ],
 "metadata": {
  "kernelspec": {
   "display_name": ".venv",
   "language": "python",
   "name": "python3"
  },
  "language_info": {
   "codemirror_mode": {
    "name": "ipython",
    "version": 3
   },
   "file_extension": ".py",
   "mimetype": "text/x-python",
   "name": "python",
   "nbconvert_exporter": "python",
   "pygments_lexer": "ipython3",
   "version": "3.9.13"
  }
 },
 "nbformat": 4,
 "nbformat_minor": 2
}
