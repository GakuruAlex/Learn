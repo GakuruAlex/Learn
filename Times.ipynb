{
 "cells": [
  {
   "cell_type": "code",
   "execution_count": 7,
   "metadata": {},
   "outputs": [
    {
     "name": "stdout",
     "output_type": "stream",
     "text": [
      "1:27.95,1:21.07,1:30.96,1:23.22,1:27.95,1:28.30\n",
      "['1:27.95', '1:21.07', '1:30.96', '1:23.22', '1:27.95', '1:28.30']\n"
     ]
    }
   ],
   "source": [
    "FN =\"Darius-13-100m-Fly.txt\"\n",
    "FOLDER = \"swimdata/\"\n",
    "\n",
    "with open(FOLDER + FN) as file:\n",
    "    lines = file.readlines()\n",
    "\n",
    "swimmer_name,age,distance,stroke = FN.strip(\".txt\").split(\"-\")\n",
    "\n",
    "line = lines[0].strip()\n",
    "print(line)\n",
    "\n",
    "times = line.split(\",\")\n",
    "print(times)\n",
    "\n"
   ]
  },
  {
   "cell_type": "code",
   "execution_count": 8,
   "metadata": {},
   "outputs": [
    {
     "name": "stdout",
     "output_type": "stream",
     "text": [
      "[8795, 8107, 9096, 8322, 8795, 8830]\n"
     ]
    }
   ],
   "source": [
    "centiseconds = []\n",
    "for time in times:\n",
    "    minutes,modulo = time.split(\":\")\n",
    "    seconds,hundredths = modulo.split(\".\")\n",
    "    \n",
    "    centisecond = (int(minutes)* 60 * 100) + (int(seconds) * 100) + int(hundredths)\n",
    "    centiseconds.append(centisecond)\n",
    "\n",
    "print(centiseconds)"
   ]
  },
  {
   "cell_type": "code",
   "execution_count": 11,
   "metadata": {},
   "outputs": [
    {
     "name": "stdout",
     "output_type": "stream",
     "text": [
      "8657.5\n",
      "<class 'float'>\n",
      "8658\n"
     ]
    }
   ],
   "source": [
    "from statistics import mean\n",
    "from math import ceil\n",
    "\n",
    "average = mean(centiseconds)\n",
    "print(average)\n",
    "print(type(average))\n",
    "average = ceil(average)\n",
    "print(average)\n"
   ]
  },
  {
   "cell_type": "code",
   "execution_count": 21,
   "metadata": {},
   "outputs": [
    {
     "name": "stdout",
     "output_type": "stream",
     "text": [
      "Average time is 1:26.58\n"
     ]
    }
   ],
   "source": [
    "minutes_seconds,hundredths = str(average / 100).split(\".\")\n",
    "minutes = int(minutes_seconds) // 60\n",
    "seconds = int(minutes_seconds) - (minutes * 60)\n",
    "time = f\"{minutes}:{seconds}.{hundredths}\"\n",
    "print(f\"Average time is {time}\")"
   ]
  }
 ],
 "metadata": {
  "kernelspec": {
   "display_name": ".venv",
   "language": "python",
   "name": "python3"
  },
  "language_info": {
   "codemirror_mode": {
    "name": "ipython",
    "version": 3
   },
   "file_extension": ".py",
   "mimetype": "text/x-python",
   "name": "python",
   "nbconvert_exporter": "python",
   "pygments_lexer": "ipython3",
   "version": "3.9.13"
  }
 },
 "nbformat": 4,
 "nbformat_minor": 2
}
