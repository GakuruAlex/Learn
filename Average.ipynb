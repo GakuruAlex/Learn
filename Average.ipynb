{
 "cells": [
  {
   "cell_type": "code",
   "execution_count": 449,
   "metadata": {},
   "outputs": [],
   "source": [
    "FN= \"Darius-13-100m-Fly.txt\"\n",
    "FOLDER = \"swimdata/\"\n",
    "with open(FOLDER + FN) as file:\n",
    "    lines = file.readlines()"
   ]
  },
  {
   "cell_type": "code",
   "execution_count": 450,
   "metadata": {},
   "outputs": [
    {
     "data": {
      "text/plain": [
       "['1:27.95,1:21.07,1:30.96,1:23.22,1:27.95,1:28.30\\n']"
      ]
     },
     "execution_count": 450,
     "metadata": {},
     "output_type": "execute_result"
    }
   ],
   "source": [
    "lines"
   ]
  },
  {
   "cell_type": "code",
   "execution_count": 451,
   "metadata": {},
   "outputs": [
    {
     "data": {
      "text/plain": [
       "'1:27.95,1:21.07,1:30.96,1:23.22,1:27.95,1:28.30\\n'"
      ]
     },
     "execution_count": 451,
     "metadata": {},
     "output_type": "execute_result"
    }
   ],
   "source": [
    "line = lines[0]\n",
    "line"
   ]
  },
  {
   "cell_type": "code",
   "execution_count": 452,
   "metadata": {},
   "outputs": [
    {
     "name": "stdout",
     "output_type": "stream",
     "text": [
      "['__add__', '__class__', '__contains__', '__delattr__', '__dir__', '__doc__', '__eq__', '__format__', '__ge__', '__getattribute__', '__getitem__', '__getnewargs__', '__gt__', '__hash__', '__init__', '__init_subclass__', '__iter__', '__le__', '__len__', '__lt__', '__mod__', '__mul__', '__ne__', '__new__', '__reduce__', '__reduce_ex__', '__repr__', '__rmod__', '__rmul__', '__setattr__', '__sizeof__', '__str__', '__subclasshook__', 'capitalize', 'casefold', 'center', 'count', 'encode', 'endswith', 'expandtabs', 'find', 'format', 'format_map', 'index', 'isalnum', 'isalpha', 'isascii', 'isdecimal', 'isdigit', 'isidentifier', 'islower', 'isnumeric', 'isprintable', 'isspace', 'istitle', 'isupper', 'join', 'ljust', 'lower', 'lstrip', 'maketrans', 'partition', 'removeprefix', 'removesuffix', 'replace', 'rfind', 'rindex', 'rjust', 'rpartition', 'rsplit', 'rstrip', 'split', 'splitlines', 'startswith', 'strip', 'swapcase', 'title', 'translate', 'upper', 'zfill']\n"
     ]
    }
   ],
   "source": [
    "type(line)\n",
    "print(dir(line))"
   ]
  },
  {
   "cell_type": "code",
   "execution_count": 453,
   "metadata": {},
   "outputs": [
    {
     "name": "stdout",
     "output_type": "stream",
     "text": [
      "Help on built-in function rjust:\n",
      "\n",
      "rjust(width, fillchar=' ', /) method of builtins.str instance\n",
      "    Return a right-justified string of length width.\n",
      "    \n",
      "    Padding is done using the specified fill character (default is a space).\n",
      "\n"
     ]
    }
   ],
   "source": [
    "help(line.rjust)"
   ]
  },
  {
   "cell_type": "code",
   "execution_count": 454,
   "metadata": {},
   "outputs": [
    {
     "name": "stdout",
     "output_type": "stream",
     "text": [
      "Help on built-in function strip:\n",
      "\n",
      "strip(chars=None, /) method of builtins.str instance\n",
      "    Return a copy of the string with leading and trailing whitespace removed.\n",
      "    \n",
      "    If chars is given and not None, remove characters in chars instead.\n",
      "\n"
     ]
    }
   ],
   "source": [
    "help(line.strip)"
   ]
  },
  {
   "cell_type": "code",
   "execution_count": 455,
   "metadata": {},
   "outputs": [],
   "source": [
    "line =lines[0]"
   ]
  },
  {
   "cell_type": "code",
   "execution_count": 456,
   "metadata": {},
   "outputs": [],
   "source": [
    "times_one = line.replace(\":\",\".\").strip().split(\",\")"
   ]
  },
  {
   "cell_type": "code",
   "execution_count": 457,
   "metadata": {},
   "outputs": [
    {
     "name": "stdout",
     "output_type": "stream",
     "text": [
      "['1.27.95', '1.21.07', '1.30.96', '1.23.22', '1.27.95', '1.28.30']\n",
      "[['1', '27', '95'], ['1', '21', '07'], ['1', '30', '96'], ['1', '23', '22'], ['1', '27', '95'], ['1', '28', '30']]\n"
     ]
    }
   ],
   "source": [
    "print(times_one)\n",
    "new_times = []\n",
    "for time in times_one:\n",
    "    time = time.split(\".\")\n",
    "    new_times.append(time)\n",
    "print(new_times)"
   ]
  },
  {
   "cell_type": "code",
   "execution_count": 458,
   "metadata": {},
   "outputs": [],
   "source": [
    "def convert_to_centiseconds(time: list)-> int:\n",
    "    for i in range(len(time)):\n",
    "        if i == len(time) - 1:\n",
    "            return int(time[i]) + (time_seconds * 100)\n",
    "        elif i == 0:\n",
    "            time_seconds = (int(time[i]) * 60) + int(time[i +1])\n",
    "        else:\n",
    "            continue"
   ]
  },
  {
   "cell_type": "code",
   "execution_count": 459,
   "metadata": {},
   "outputs": [
    {
     "name": "stdout",
     "output_type": "stream",
     "text": [
      "27.95\n",
      "8795\n"
     ]
    }
   ],
   "source": [
    "times = lines[0].strip().split(\",\")\n",
    "first = times[0]\n",
    "minutes, rest = first.split(\":\")\n",
    "print(rest)\n",
    "seconds, hundredths = rest.split(\".\")\n",
    "centiseconds = (int(minutes)* 60 * 100 ) + (int(seconds) * 100) + int(hundredths)\n",
    "print(centiseconds)"
   ]
  },
  {
   "cell_type": "code",
   "execution_count": 460,
   "metadata": {},
   "outputs": [
    {
     "name": "stdout",
     "output_type": "stream",
     "text": [
      "['1:27.95', '1:21.07', '1:30.96', '1:23.22', '1:27.95', '1:28.30']\n"
     ]
    }
   ],
   "source": [
    "print(times)"
   ]
  },
  {
   "cell_type": "code",
   "execution_count": 461,
   "metadata": {},
   "outputs": [
    {
     "name": "stdout",
     "output_type": "stream",
     "text": [
      "[8795, 8107, 9096, 8322, 8795, 8830]\n"
     ]
    }
   ],
   "source": [
    "converts =[]\n",
    "for time in times:\n",
    "    minutes, rest = time.split(\":\")\n",
    "    seconds, hundredths = rest.split(\".\")\n",
    "    convert = (int(minutes) * 60 * 100) + (int(seconds) * 100) + int(hundredths)\n",
    "    converts.append(convert)\n",
    "print(converts)\n"
   ]
  },
  {
   "cell_type": "code",
   "execution_count": 462,
   "metadata": {},
   "outputs": [],
   "source": [
    "import statistics\n",
    "average = statistics.mean(converts)"
   ]
  },
  {
   "cell_type": "code",
   "execution_count": 463,
   "metadata": {},
   "outputs": [
    {
     "name": "stdout",
     "output_type": "stream",
     "text": [
      "8657.5\n"
     ]
    }
   ],
   "source": [
    "print(average)\n"
   ]
  },
  {
   "cell_type": "code",
   "execution_count": 464,
   "metadata": {},
   "outputs": [],
   "source": [
    "import math\n",
    "average = math.ceil(average)"
   ]
  },
  {
   "cell_type": "code",
   "execution_count": 465,
   "metadata": {},
   "outputs": [],
   "source": [
    "seconds= str(average / 100)"
   ]
  },
  {
   "cell_type": "code",
   "execution_count": 466,
   "metadata": {},
   "outputs": [
    {
     "name": "stdout",
     "output_type": "stream",
     "text": [
      "Seconds -> 86.58\n",
      "<class 'str'>\n"
     ]
    }
   ],
   "source": [
    "print(f\"Seconds -> {seconds}\")\n",
    "print(type(seconds))"
   ]
  },
  {
   "cell_type": "code",
   "execution_count": 467,
   "metadata": {},
   "outputs": [],
   "source": [
    "from datetime import timedelta"
   ]
  },
  {
   "cell_type": "code",
   "execution_count": 472,
   "metadata": {},
   "outputs": [
    {
     "name": "stdout",
     "output_type": "stream",
     "text": [
      "0:01:26.580000\n",
      "<class 'datetime.timedelta'>\n"
     ]
    }
   ],
   "source": [
    "seconds = float(seconds)\n",
    "time = timedelta(seconds = seconds)\n",
    "print(time)\n",
    "print(type(time))"
   ]
  },
  {
   "cell_type": "code",
   "execution_count": 475,
   "metadata": {},
   "outputs": [],
   "source": [
    "time = str(time)"
   ]
  },
  {
   "cell_type": "code",
   "execution_count": 478,
   "metadata": {},
   "outputs": [],
   "source": [
    "day,time = time.split(\"0:\")"
   ]
  },
  {
   "cell_type": "code",
   "execution_count": 479,
   "metadata": {},
   "outputs": [
    {
     "name": "stdout",
     "output_type": "stream",
     "text": [
      "01:26.580000\n"
     ]
    }
   ],
   "source": [
    "print(time)"
   ]
  }
 ],
 "metadata": {
  "kernelspec": {
   "display_name": ".venv",
   "language": "python",
   "name": "python3"
  },
  "language_info": {
   "codemirror_mode": {
    "name": "ipython",
    "version": 3
   },
   "file_extension": ".py",
   "mimetype": "text/x-python",
   "name": "python",
   "nbconvert_exporter": "python",
   "pygments_lexer": "ipython3",
   "version": "3.9.13"
  }
 },
 "nbformat": 4,
 "nbformat_minor": 2
}
